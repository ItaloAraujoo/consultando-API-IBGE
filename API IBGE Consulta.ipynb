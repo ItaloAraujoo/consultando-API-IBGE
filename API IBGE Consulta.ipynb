{
 "cells": [
  {
   "cell_type": "markdown",
   "id": "ad2d00dc",
   "metadata": {},
   "source": [
    "### API IBGE\n",
    "\n",
    "https://servicodados.ibge.gov.br/api/docs"
   ]
  },
  {
   "cell_type": "code",
   "execution_count": 14,
   "id": "17ec9d9f",
   "metadata": {},
   "outputs": [
    {
     "name": "stdout",
     "output_type": "stream",
     "text": [
      "[{'id': '2586',\n",
      "  'resultados': [{'classificacoes': [{'categoria': {'0': 'Total'},\n",
      "                                      'id': '637',\n",
      "                                      'nome': 'Classificação de médio '\n",
      "                                              'produtor'},\n",
      "                                     {'categoria': {'116700': 'Total'},\n",
      "                                      'id': '12650',\n",
      "                                      'nome': 'Plantel de suínos'}],\n",
      "                  'series': [{'localidade': {'id': '1',\n",
      "                                             'nivel': {'id': 'N1',\n",
      "                                                       'nome': 'Brasil'},\n",
      "                                             'nome': 'Brasil'},\n",
      "                              'serie': {'2006': '1496422'}}]}],\n",
      "  'unidade': 'Unidades',\n",
      "  'variavel': 'Número de estabelecimentos agropecuários com suínos'}]\n"
     ]
    }
   ],
   "source": [
    "import requests\n",
    "import pandas as pd\n",
    "import pprint\n",
    "\n",
    "link = requests.get('https://servicodados.ibge.gov.br/api/v3/agregados/4112/periodos/2006/variaveis/2586?localidades=N1[all]')\n",
    "informacoes = link.json()\n",
    "pprint.pprint(informacoes)\n",
    "\n",
    "item_busca = informacoes[0]['variavel']\n",
    "resultados = informacoes[0]['resultados'][0]['series']"
   ]
  },
  {
   "cell_type": "code",
   "execution_count": 15,
   "id": "d0306581",
   "metadata": {},
   "outputs": [
    {
     "name": "stdout",
     "output_type": "stream",
     "text": [
      "Número de estabelecimentos agropecuários com suínos\n",
      "[{'localidade': {'id': '1', 'nivel': {'id': 'N1', 'nome': 'Brasil'}, 'nome': 'Brasil'}, 'serie': {'2006': '1496422'}}]\n"
     ]
    }
   ],
   "source": [
    "print(item_busca)\n",
    "print(resultados)"
   ]
  }
 ],
 "metadata": {
  "kernelspec": {
   "display_name": "Python 3 (ipykernel)",
   "language": "python",
   "name": "python3"
  },
  "language_info": {
   "codemirror_mode": {
    "name": "ipython",
    "version": 3
   },
   "file_extension": ".py",
   "mimetype": "text/x-python",
   "name": "python",
   "nbconvert_exporter": "python",
   "pygments_lexer": "ipython3",
   "version": "3.9.13"
  }
 },
 "nbformat": 4,
 "nbformat_minor": 5
}
